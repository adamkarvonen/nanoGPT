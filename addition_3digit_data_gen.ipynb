{
 "cells": [
  {
   "cell_type": "code",
   "execution_count": 23,
   "metadata": {},
   "outputs": [],
   "source": [
    "import random\n",
    "import itertools\n",
    "\n",
    "out_name = \"addition_3digits\"\n",
    "\n",
    "num1_coverage = 900\n",
    "num2_coverage = 900\n",
    "max_num = 999\n",
    "\n",
    "num1_set = set()\n",
    "num2_set = set()\n",
    "\n",
    "for i in range(10):\n",
    "    num1_set.add(i)\n",
    "    num2_set.add(i)\n",
    "\n",
    "while len(num1_set) < num1_coverage:\n",
    "    num1_set.add(random.randint(10, max_num))\n",
    "\n",
    "while len(num2_set) < num1_coverage:\n",
    "    num2_set.add(random.randint(10, max_num))\n",
    "\n",
    "result = list(itertools.product(num1_set, num2_set))\n",
    "\n",
    "with open('data/' + out_name + '/input.txt', 'w') as f:\n",
    "    for pair in result:\n",
    "        text = \"{}+{}={};\\n\".format(pair[0], pair[1], sum(pair))\n",
    "        f.write(text)"
   ]
  },
  {
   "cell_type": "code",
   "execution_count": 1,
   "metadata": {},
   "outputs": [
    {
     "ename": "NameError",
     "evalue": "name 'max_num' is not defined",
     "output_type": "error",
     "traceback": [
      "\u001b[1;31m---------------------------------------------------------------------------\u001b[0m",
      "\u001b[1;31mNameError\u001b[0m                                 Traceback (most recent call last)",
      "Cell \u001b[1;32mIn[1], line 1\u001b[0m\n\u001b[1;32m----> 1\u001b[0m all_numbers \u001b[39m=\u001b[39m \u001b[39mset\u001b[39m(\u001b[39mrange\u001b[39m(\u001b[39m0\u001b[39m,max_num\u001b[39m+\u001b[39m\u001b[39m1\u001b[39m))\n\u001b[0;32m      2\u001b[0m not_in_num1_set \u001b[39m=\u001b[39m all_numbers \u001b[39m-\u001b[39m num1_set\n\u001b[0;32m      3\u001b[0m not_in_num2_set \u001b[39m=\u001b[39m all_numbers \u001b[39m-\u001b[39m num2_set\n",
      "\u001b[1;31mNameError\u001b[0m: name 'max_num' is not defined"
     ]
    }
   ],
   "source": [
    "all_numbers = set(range(0,max_num+1))\n",
    "not_in_num1_set = all_numbers - num1_set\n",
    "not_in_num2_set = all_numbers - num2_set\n",
    "\n",
    "test_result = list(itertools.product(not_in_num1_set, not_in_num2_set))\n",
    "\n",
    "with open('data/' + out_name + '/test.txt', 'w') as f:\n",
    "    for pair in test_result:\n",
    "        text = \"{}+{}={};\\n\".format(pair[0], pair[1], sum(pair))\n",
    "        f.write(text)"
   ]
  },
  {
   "cell_type": "code",
   "execution_count": 7,
   "metadata": {},
   "outputs": [
    {
     "name": "stdout",
     "output_type": "stream",
     "text": [
      "23\n"
     ]
    }
   ],
   "source": [
    "out_name = \"addition_3digits\"\n",
    "two_digs = []\n",
    "with open('data/' + out_name + '/test.txt', 'r') as f:\n",
    "    for line in f:\n",
    "        if len(line) < 11:\n",
    "            two_digs.append(line)\n",
    "\n",
    "print(len(two_digs))\n",
    "with open('data/' + out_name + '/test_twodig.txt', 'w') as f:\n",
    "    for line in two_digs:\n",
    "        f.write(line)"
   ]
  },
  {
   "cell_type": "code",
   "execution_count": 8,
   "metadata": {},
   "outputs": [
    {
     "name": "stdout",
     "output_type": "stream",
     "text": [
      "54\n"
     ]
    }
   ],
   "source": [
    "out_name = \"addition_3digits\"\n",
    "two_digs_carry = []\n",
    "with open('data/' + out_name + '/test.txt', 'r') as f:\n",
    "    for line in f:\n",
    "        if len(line.split(\"=\")[0]) < 6:\n",
    "            two_digs_carry.append(line)\n",
    "\n",
    "print(len(two_digs_carry))\n",
    "\n",
    "with open('data/' + out_name + '/test_twodigcarry.txt', 'w') as f:\n",
    "    for line in two_digs_carry:\n",
    "        f.write(line)"
   ]
  }
 ],
 "metadata": {
  "kernelspec": {
   "display_name": "pytorch",
   "language": "python",
   "name": "python3"
  },
  "language_info": {
   "codemirror_mode": {
    "name": "ipython",
    "version": 3
   },
   "file_extension": ".py",
   "mimetype": "text/x-python",
   "name": "python",
   "nbconvert_exporter": "python",
   "pygments_lexer": "ipython3",
   "version": "3.10.10"
  },
  "orig_nbformat": 4
 },
 "nbformat": 4,
 "nbformat_minor": 2
}
