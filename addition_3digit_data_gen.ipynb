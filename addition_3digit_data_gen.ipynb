{
 "cells": [
  {
   "cell_type": "code",
   "execution_count": 20,
   "metadata": {},
   "outputs": [
    {
     "ename": "KeyboardInterrupt",
     "evalue": "",
     "output_type": "error",
     "traceback": [
      "\u001b[1;31m---------------------------------------------------------------------------\u001b[0m",
      "\u001b[1;31mKeyboardInterrupt\u001b[0m                         Traceback (most recent call last)",
      "Cell \u001b[1;32mIn[20], line 16\u001b[0m\n\u001b[0;32m     13\u001b[0m     num1_set\u001b[39m.\u001b[39madd(i)\n\u001b[0;32m     14\u001b[0m     num2_set\u001b[39m.\u001b[39madd(i)\n\u001b[1;32m---> 16\u001b[0m \u001b[39mwhile\u001b[39;00m \u001b[39mlen\u001b[39;49m(num1_set) \u001b[39m<\u001b[39;49m num1_coverage:\n\u001b[0;32m     17\u001b[0m     num1_set\u001b[39m.\u001b[39madd(random\u001b[39m.\u001b[39mrandint(\u001b[39m10\u001b[39m, \u001b[39m99\u001b[39m))\n\u001b[0;32m     19\u001b[0m \u001b[39mwhile\u001b[39;00m \u001b[39mlen\u001b[39m(num2_set) \u001b[39m<\u001b[39m num1_coverage:\n",
      "\u001b[1;31mKeyboardInterrupt\u001b[0m: "
     ]
    }
   ],
   "source": [
    "import random\n",
    "import itertools\n",
    "\n",
    "out_name = \"addition_3digits\"\n",
    "\n",
    "num1_coverage = 900\n",
    "num2_coverage = 900\n",
    "max_num = 999\n",
    "\n",
    "num1_set = set()\n",
    "num2_set = set()\n",
    "\n",
    "for i in range(10):\n",
    "    num1_set.add(i)\n",
    "    num2_set.add(i)\n",
    "\n",
    "while len(num1_set) < num1_coverage:\n",
    "    num1_set.add(random.randint(10, max_num))\n",
    "\n",
    "while len(num2_set) < num1_coverage:\n",
    "    num2_set.add(random.randint(10, max_num))\n",
    "\n",
    "result = list(itertools.product(num1_set, num2_set))\n",
    "\n",
    "with open('data/' + out_name + '/input.txt', 'w') as f:\n",
    "    for pair in result:\n",
    "        text = \"{}+{}={};\\n\".format(pair[0], pair[1], sum(pair))\n",
    "        f.write(text)"
   ]
  },
  {
   "cell_type": "code",
   "execution_count": 19,
   "metadata": {},
   "outputs": [],
   "source": [
    "all_numbers = set(range(0,100))\n",
    "not_in_num1_set = all_numbers - num1_set\n",
    "not_in_num2_set = all_numbers - num2_set\n",
    "\n",
    "test_result = list(itertools.product(not_in_num1_set, not_in_num2_set))\n",
    "\n",
    "with open('data/' + out_name + '/test.txt', 'w') as f:\n",
    "    for pair in test_result:\n",
    "        text = \"{}+{}={};\\n\".format(pair[0], pair[1], sum(pair))\n",
    "        f.write(text)"
   ]
  }
 ],
 "metadata": {
  "kernelspec": {
   "display_name": "pytorch",
   "language": "python",
   "name": "python3"
  },
  "language_info": {
   "codemirror_mode": {
    "name": "ipython",
    "version": 3
   },
   "file_extension": ".py",
   "mimetype": "text/x-python",
   "name": "python",
   "nbconvert_exporter": "python",
   "pygments_lexer": "ipython3",
   "version": "3.10.10"
  },
  "orig_nbformat": 4
 },
 "nbformat": 4,
 "nbformat_minor": 2
}
