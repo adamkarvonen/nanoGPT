{
 "cells": [
  {
   "cell_type": "code",
   "execution_count": 14,
   "metadata": {},
   "outputs": [],
   "source": [
    "import random\n",
    "import itertools\n",
    "\n",
    "out_name = \"addition\"\n",
    "random.seed(1337)\n",
    "\n",
    "num1_coverage = 90\n",
    "num2_coverage = 90\n",
    "max_num = 99\n",
    "\n",
    "num1_set = set()\n",
    "num2_set = set()\n",
    "\n",
    "for i in range(10):\n",
    "    num1_set.add(i)\n",
    "    num2_set.add(i)\n",
    "\n",
    "while len(num1_set) < num1_coverage:\n",
    "    num1_set.add(random.randint(10, max_num))\n",
    "\n",
    "while len(num2_set) < num1_coverage:\n",
    "    num2_set.add(random.randint(10, max_num))\n",
    "\n",
    "result = list(itertools.product(num1_set, num2_set))\n",
    "\n",
    "with open('data/' + out_name + '/input.txt', 'w') as f:\n",
    "    for pair in result:\n",
    "        text = \"{}+{}={};\\n\".format(pair[0], pair[1], sum(pair))\n",
    "        f.write(text)"
   ]
  },
  {
   "cell_type": "code",
   "execution_count": 1,
   "metadata": {},
   "outputs": [
    {
     "name": "stdout",
     "output_type": "stream",
     "text": [
      "8100\n",
      "32400\n"
     ]
    }
   ],
   "source": [
    "import random\n",
    "import itertools\n",
    "\n",
    "out_name = \"addition\"\n",
    "random.seed(1337)\n",
    "\n",
    "num1_coverage = 90\n",
    "num2_coverage = 90\n",
    "max_num = 99\n",
    "\n",
    "num1_set = set()\n",
    "num2_set = set()\n",
    "\n",
    "for i in range(10):\n",
    "    num1_set.add(i)\n",
    "    num2_set.add(i)\n",
    "\n",
    "while len(num1_set) < num1_coverage:\n",
    "    num1_set.add(random.randint(10, max_num))\n",
    "\n",
    "while len(num2_set) < num1_coverage:\n",
    "    num2_set.add(random.randint(10, max_num))\n",
    "\n",
    "num1_list = list(num1_set)\n",
    "num2_list = list(num2_set)\n",
    "\n",
    "for i in range(int(num1_coverage / 10)):\n",
    "    for j in range(10):\n",
    "        num1_list.append(j)\n",
    "        num2_list.append(j)\n",
    "\n",
    "set_result = list(itertools.product(num1_set, num2_set))\n",
    "result = list(itertools.product(num1_list, num2_list))\n",
    "\n",
    "print(len(set_result))\n",
    "print(len(result))\n",
    "with open('data/' + out_name + '/input.txt', 'w') as f:\n",
    "    for pair in result:\n",
    "        text = \"Math:{}+{}={};\\n\".format(pair[0], pair[1], sum(pair))\n",
    "        f.write(text)\n"
   ]
  },
  {
   "cell_type": "code",
   "execution_count": 2,
   "metadata": {},
   "outputs": [],
   "source": [
    "all_numbers = set(range(0,max_num+1))\n",
    "not_in_num1_set = all_numbers - num1_set\n",
    "not_in_num2_set = all_numbers - num2_set\n",
    "\n",
    "test_result = list(itertools.product(not_in_num1_set, not_in_num2_set))\n",
    "\n",
    "with open('data/' + out_name + '/test.txt', 'w') as f:\n",
    "    for pair in test_result:\n",
    "        text = \"Math:{}+{}={};\\n\".format(pair[0], pair[1], sum(pair))\n",
    "        f.write(text)"
   ]
  },
  {
   "cell_type": "code",
   "execution_count": 3,
   "metadata": {},
   "outputs": [
    {
     "name": "stdout",
     "output_type": "stream",
     "text": [
      "10000\n",
      "500\n"
     ]
    }
   ],
   "source": [
    "# create tests for all one / two digit combinations\n",
    "\n",
    "import random\n",
    "import itertools\n",
    "\n",
    "out_name = \"addition\"\n",
    "\n",
    "subset_size = 500\n",
    "\n",
    "full_num1 = set(range(0,100))\n",
    "full_num2 = set(range(0,100))\n",
    "\n",
    "\n",
    "result = list(itertools.product(full_num1, full_num2))\n",
    "\n",
    "subset_result = random.sample(result, subset_size)\n",
    "\n",
    "print(len(result))\n",
    "print(len(subset_result))\n",
    "\n",
    "with open('data/' + out_name + '/full_test.txt', 'w') as f:\n",
    "    for pair in result:\n",
    "        text = \"{}+{}={};\\n\".format(pair[0], pair[1], sum(pair))\n",
    "        f.write(text)\n",
    "\n",
    "with open('data/' + out_name + '/subset_test.txt', 'w') as f:\n",
    "    for pair in subset_result:\n",
    "        text = \"{}+{}={};\\n\".format(pair[0], pair[1], sum(pair))\n",
    "        f.write(text)"
   ]
  }
 ],
 "metadata": {
  "kernelspec": {
   "display_name": "pytorch",
   "language": "python",
   "name": "python3"
  },
  "language_info": {
   "codemirror_mode": {
    "name": "ipython",
    "version": 3
   },
   "file_extension": ".py",
   "mimetype": "text/x-python",
   "name": "python",
   "nbconvert_exporter": "python",
   "pygments_lexer": "ipython3",
   "version": "3.10.10"
  },
  "orig_nbformat": 4
 },
 "nbformat": 4,
 "nbformat_minor": 2
}
